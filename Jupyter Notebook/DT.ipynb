{
 "cells": [
  {
   "cell_type": "code",
   "execution_count": null,
   "id": "51722abb-ce75-4b7b-b1a1-ddf94cf317cf",
   "metadata": {},
   "outputs": [],
   "source": [
    "import pandas as pd\n",
    "from sklearn.tree import DecisionTreeClassifier\n",
    "from sklearn.preprocessing import LabelEncoder\n",
    "from sklearn.model_selection import train_test_split\n",
    "from sklearn.metrics import classification_report\n",
    "from sklearn import tree\n",
    "import matplotlib.pyplot as plt"
   ]
  },
  {
   "cell_type": "code",
   "execution_count": null,
   "id": "200cb406-fddf-4f56-a7bd-ecf2ae7dbf0f",
   "metadata": {},
   "outputs": [],
   "source": [
    "data = [\n",
    "    ['No', 'No', 'No', 'Yes', 'Some', '$', 'No', 'Yes', 'French', '0-10', 'Yes'],\n",
    "    ['No', 'No', 'No', 'Yes', 'Full', '$', 'No', 'No', 'Thai', '30-60', 'No'],\n",
    "    ['Yes', 'No', 'Yes', 'No', 'Some', '$', 'Yes', 'No', 'Burger', '0-10', 'Yes'],\n",
    "    ['No', 'Yes', 'No', 'Yes', 'Full', '$$$', 'No', 'Yes', 'Thai', '10-30', 'Yes'],\n",
    "    ['No', 'Yes', 'Yes', 'No', 'Full', '$$', 'Yes', 'No', 'French', '>60', 'No'],\n",
    "    ['Yes', 'No', 'Yes', 'Yes', 'Some', '$$', 'Yes', 'Yes', 'Italian', '0-10', 'Yes'],\n",
    "    ['No', 'Yes', 'Yes', 'Yes', 'Full', '$$', 'No', 'Yes', 'Burger', '>60', 'No'],\n",
    "    ['Yes', 'Yes', 'Yes', 'No', 'None', '$', 'No', 'No', 'Thai', '0-10', 'No'],\n",
    "]\n",
    "\n",
    "columns = ['Alternate', 'Bar', 'Fri/Sat', 'Hungry', 'Patrons', 'Price',\n",
    "           'Rain', 'Reservation', 'Type', 'WaitEstimate', 'WillWait']\n",
    "df = pd.DataFrame(data, columns=columns)"
   ]
  },
  {
   "cell_type": "code",
   "execution_count": null,
   "id": "ea57a54e-76aa-4285-97c2-5f2b2025c7b5",
   "metadata": {},
   "outputs": [],
   "source": [
    "le = LabelEncoder()\n",
    "for column in df.columns:\n",
    "    df[column] = le.fit_transform(df[column])\n",
    "\n",
    "\n",
    "X = df.drop('WillWait', axis=1)\n",
    "y = df['WillWait']\n",
    "\n",
    "\n",
    "X_train, X_test, y_train, y_test = train_test_split(X, y, test_size=0.2, random_state=42)"
   ]
  },
  {
   "cell_type": "code",
   "execution_count": null,
   "id": "16804bac-1fa1-4e87-86ba-bb8b1573f2f5",
   "metadata": {},
   "outputs": [],
   "source": [
    "clf = DecisionTreeClassifier()\n",
    "clf.fit(X_train, y_train)\n",
    "\n",
    "\n",
    "y_pred = clf.predict(X_test)\n",
    "\n",
    "\n",
    "print(classification_report(y_test, y_pred))\n",
    "\n",
    "\n",
    "plt.figure(figsize=(12,8))\n",
    "tree.plot_tree(clf, feature_names=X.columns, class_names=[\"No\", \"Yes\"], filled=True)\n",
    "plt.show()"
   ]
  }
 ],
 "metadata": {
  "kernelspec": {
   "display_name": "Python 3 (ipykernel)",
   "language": "python",
   "name": "python3"
  },
  "language_info": {
   "codemirror_mode": {
    "name": "ipython",
    "version": 3
   },
   "file_extension": ".py",
   "mimetype": "text/x-python",
   "name": "python",
   "nbconvert_exporter": "python",
   "pygments_lexer": "ipython3",
   "version": "3.12.9"
  }
 },
 "nbformat": 4,
 "nbformat_minor": 5
}
