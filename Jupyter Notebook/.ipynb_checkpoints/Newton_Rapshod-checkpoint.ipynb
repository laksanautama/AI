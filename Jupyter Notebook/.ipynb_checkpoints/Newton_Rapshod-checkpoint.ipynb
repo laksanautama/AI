{
 "cells": [
  {
   "cell_type": "code",
   "execution_count": 5,
   "id": "f0ae9c2b-1fa2-43d1-8904-cbc74f8a3978",
   "metadata": {},
   "outputs": [],
   "source": [
    "import torch\n",
    "import math"
   ]
  },
  {
   "cell_type": "code",
   "execution_count": 86,
   "id": "819c71ee-b934-465f-a88f-54f445f55f51",
   "metadata": {},
   "outputs": [],
   "source": [
    "x = torch.tensor([[3.0], [5.0]], requires_grad=True)\n",
    "y = torch.tensor([[2.0], [6.0]], requires_grad=True)"
   ]
  },
  {
   "cell_type": "code",
   "execution_count": 100,
   "id": "fb031290-b37a-4cf7-ad1a-d54fb58aef0e",
   "metadata": {},
   "outputs": [],
   "source": [
    "def f(x,y):\n",
    "    \n",
    "    xc = torch.tensor([[1.0], [2.5]], requires_grad=True)\n",
    "    yc = torch.tensor([[2.0], [2.9]], requires_grad=True)\n",
    "    sums = 0\n",
    "    for i in range(len(x)):\n",
    "        d = (x[i]-xc)**2 + (y[i]-yc)**2\n",
    "        sums += d.sum()\n",
    "\n",
    "    # print(sums)\n",
    "    # cost = 0.7* (1/((x[0]-x[1])**2 + (y[0]-y[1])**2)).sum()\n",
    "    # print(cost)\n",
    "    # sums += cost\n",
    "    return sums"
   ]
  },
  {
   "cell_type": "code",
   "execution_count": 102,
   "id": "84f16a7d-3e77-4afa-844f-de3a6ba706f8",
   "metadata": {},
   "outputs": [],
   "source": [
    "def newton_rapshod(x,y):\n",
    "    \n",
    "    inputs = (x,y)\n",
    "    z = f(x, y)\n",
    "    print(x)\n",
    "    print(y)\n",
    "    df_dx = torch.autograd.grad(z, x, retain_graph=True, create_graph=True)[0]\n",
    "    df_dy = torch.autograd.grad(z, y, retain_graph=True, create_graph=True)[0]\n",
    "\n",
    "    matrix_size = len(inputs)*len(x)\n",
    "    \n",
    "    hessian = torch.autograd.functional.hessian(f, inputs)\n",
    "    hessian_matrix = torch.cat([torch.cat(row, dim=-1) for row in hessian], dim=-2).reshape(matrix_size, matrix_size)\n",
    "    hessian_inverse = torch.linalg.inv(hessian_matrix)\n",
    "\n",
    "    gradient_vector = torch.cat((df_dx, df_dy), dim=1).reshape(1,-1)\n",
    "    grad_hessian = torch.matmul(gradient_vector, hessian_inverse)\n",
    "\n",
    "    current_vector = torch.cat((x,y), dim=1).reshape(1,-1)\n",
    "    next_vector = current_vector - grad_hessian\n",
    "    chunks = torch.split(next_vector.reshape(int(matrix_size/len(x)),-1), 1, dim=1)\n",
    "\n",
    "    return chunks\n",
    "    "
   ]
  },
  {
   "cell_type": "code",
   "execution_count": 107,
   "id": "71a9f01c-782c-4425-bc1c-ac20d5beebe9",
   "metadata": {},
   "outputs": [],
   "source": [
    "epoch = 5\n",
    "final_score = math.inf\n",
    "x1 = x\n",
    "y1 = y\n",
    "best_x = x1\n",
    "best_y = y1\n",
    "\n",
    "for i in range(epoch):\n",
    "    print(f\"epoch: {i}\")\n",
    "    chunks = newton_rapshod(x1,y1)\n",
    "    x1 = chunks[0]\n",
    "    y1 = chunks[1]\n",
    "    score = f(chunks[0],chunks[1])\n",
    "    print(score)\n",
    "    if score < final_score:\n",
    "        final_score = score\n",
    "        best_x = chunks[0]\n",
    "        best_y = chunks[1]\n",
    "    "
   ]
  },
  {
   "cell_type": "code",
   "execution_count": 108,
   "id": "47fe9bbb-ea5c-469c-92c4-1364b92061b7",
   "metadata": {},
   "outputs": [],
   "source": [
    "print(best_x, best_y, final_score)"
   ]
  },
  {
   "cell_type": "code",
   "execution_count": 109,
   "id": "0f8c13e4-6299-4b4f-ab4b-74af72bee4cc",
   "metadata": {},
   "outputs": [],
   "source": [
    "result = f(best_x, best_y)\n",
    "print(result)"
   ]
  }
 ],
 "metadata": {
  "kernelspec": {
   "display_name": "Python 3 (ipykernel)",
   "language": "python",
   "name": "python3"
  },
  "language_info": {
   "codemirror_mode": {
    "name": "ipython",
    "version": 3
   },
   "file_extension": ".py",
   "mimetype": "text/x-python",
   "name": "python",
   "nbconvert_exporter": "python",
   "pygments_lexer": "ipython3",
   "version": "3.12.9"
  }
 },
 "nbformat": 4,
 "nbformat_minor": 5
}
